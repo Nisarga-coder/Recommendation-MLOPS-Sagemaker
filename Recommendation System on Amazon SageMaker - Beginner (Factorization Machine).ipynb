{
 "cells": [
  {
   "cell_type": "markdown",
   "metadata": {},
   "source": [
    "# Recommendation System on Amazon SageMaker - Beginner (Factorization Machine)"
   ]
  },
  {
   "cell_type": "markdown",
   "metadata": {},
   "source": [
    "In this notebook, we are going to build a simple movie recommendation model with Factorization machine using Amazon Sagemaker"
   ]
  },
  {
   "cell_type": "code",
   "execution_count": 11,
   "metadata": {},
   "outputs": [],
   "source": [
    "import sagemaker\n",
    "import sagemaker.amazon.common as smac\n",
    "from sagemaker import get_execution_role\n",
    "\n",
    "import boto3, csv, io, json\n",
    "import numpy as np\n",
    "from scipy.sparse import lil_matrix"
   ]
  },
  {
   "cell_type": "markdown",
   "metadata": {},
   "source": [
    "Dataset Description including number of users/moview are in official [Movielens website](https://grouplens.org/datasets/movielens/)"
   ]
  },
  {
   "cell_type": "code",
   "execution_count": 20,
   "metadata": {},
   "outputs": [
    {
     "name": "stdout",
     "output_type": "stream",
     "text": [
      "Sagemaker session : <sagemaker.session.Session object at 0x0000026C3B32B350>\n",
      "S3 bucket : sagemaker-us-west-2-503561413948\n",
      "Prefix : sagemaker/movielens\n",
      "Region selected : us-west-2\n"
     ]
    }
   ],
   "source": [
    "import sagemaker\n",
    "import boto3\n",
    "\n",
    "# Ensure to use a valid AWS region\n",
    "region = 'us-west-2'  # Example region\n",
    "\n",
    "# Create a SageMaker session with the region\n",
    "sess = sagemaker.Session(boto_session=boto3.Session(region_name=region))\n",
    "\n",
    "# Now continue with the rest of the code\n",
    "sm_boto3 = boto3.client(\"sagemaker\", region_name=region)\n",
    "bucket = sess.default_bucket()\n",
    "prefix = 'sagemaker/movielens'\n",
    "print('Sagemaker session :', sess)\n",
    "print('S3 bucket :', bucket)\n",
    "print('Prefix :', prefix)\n",
    "print('Region selected :', region)\n"
   ]
  },
  {
   "cell_type": "code",
   "execution_count": 18,
   "metadata": {},
   "outputs": [],
   "source": [
    "nbUsers=943\n",
    "nbMovies=1682\n",
    "nbFeatures=nbUsers+nbMovies\n",
    "\n",
    "nbRatingsTrain=90570\n",
    "nbRatingsTest=9430"
   ]
  },
  {
   "cell_type": "code",
   "execution_count": 22,
   "metadata": {},
   "outputs": [],
   "source": [
    "# For each user, build a list of rated movies.\n",
    "# We'd need this to add random negative samples.\n",
    "moviesByUser = {}\n",
    "for userId in range(nbUsers):\n",
    "    moviesByUser[str(userId)]=[]\n",
    "\n",
    "with open('./ml-100k/ua.base','r') as f:\n",
    "    samples=csv.reader(f,delimiter='\\t')\n",
    "    for userId,movieId,rating,timestamp in samples:\n",
    "        moviesByUser[str(int(userId)-1)].append(int(movieId)-1) "
   ]
  },
  {
   "cell_type": "code",
   "execution_count": 23,
   "metadata": {},
   "outputs": [],
   "source": [
    "def loadDataset(filename, lines, columns):\n",
    "    # Features are one-hot encoded in a sparse matrix\n",
    "    X = lil_matrix((lines, columns)).astype('float32')\n",
    "    # Labels are stored in a vector\n",
    "    Y = []\n",
    "    line=0\n",
    "    with open(filename,'r') as f:\n",
    "        samples=csv.reader(f,delimiter='\\t')\n",
    "        for userId,movieId,rating,timestamp in samples:\n",
    "            X[line,int(userId)-1] = 1\n",
    "            X[line,int(nbUsers)+int(movieId)-1] = 1\n",
    "            if int(rating) >= 4:\n",
    "                Y.append(1)\n",
    "            else:\n",
    "                Y.append(0)\n",
    "            line=line+1\n",
    "            \n",
    "    Y=np.array(Y).astype('float32')\n",
    "    return X,Y"
   ]
  },
  {
   "cell_type": "code",
   "execution_count": 25,
   "metadata": {},
   "outputs": [],
   "source": [
    "X_train, Y_train = loadDataset('./ml-100k/ua.base', nbRatingsTrain, nbFeatures)\n",
    "X_test, Y_test = loadDataset('./ml-100k/ua.test',nbRatingsTest,nbFeatures)"
   ]
  },
  {
   "cell_type": "code",
   "execution_count": 26,
   "metadata": {},
   "outputs": [
    {
     "name": "stdout",
     "output_type": "stream",
     "text": [
      "(90570, 2625)\n",
      "(90570,)\n",
      "Training labels: 49906 zeros, 40664 ones\n",
      "(9430, 2625)\n",
      "(9430,)\n",
      "Test labels: 5469 zeros, 3961 ones\n"
     ]
    }
   ],
   "source": [
    "print(X_train.shape)\n",
    "print(Y_train.shape)\n",
    "\n",
    "assert X_train.shape == (nbRatingsTrain, nbFeatures)\n",
    "assert Y_train.shape == (nbRatingsTrain, )\n",
    "zero_labels = np.count_nonzero(Y_train)\n",
    "\n",
    "print(\"Training labels: %d zeros, %d ones\" % (zero_labels, nbRatingsTrain-zero_labels))\n",
    "\n",
    "print(X_test.shape)\n",
    "print(Y_test.shape)\n",
    "\n",
    "assert X_test.shape  == (nbRatingsTest, nbFeatures)\n",
    "assert Y_test.shape  == (nbRatingsTest, )\n",
    "zero_labels = np.count_nonzero(Y_test)\n",
    "print(\"Test labels: %d zeros, %d ones\" % (zero_labels, nbRatingsTest-zero_labels))"
   ]
  },
  {
   "cell_type": "markdown",
   "metadata": {},
   "source": [
    "# 3. Convert to protobuf and upload data to S3 bucket"
   ]
  },
  {
   "cell_type": "code",
   "execution_count": 27,
   "metadata": {},
   "outputs": [],
   "source": [
    "train_key      = 'train.protobuf'\n",
    "train_prefix   = '{}/{}'.format(prefix, 'train3')\n",
    "\n",
    "test_key       = 'test.protobuf'\n",
    "test_prefix    = '{}/{}'.format(prefix, 'test3')\n",
    "\n",
    "output_prefix  = 's3://{}/{}/output'.format(bucket, prefix)"
   ]
  },
  {
   "cell_type": "code",
   "execution_count": 29,
   "metadata": {},
   "outputs": [
    {
     "name": "stdout",
     "output_type": "stream",
     "text": [
      "s3://sagemaker-us-west-2-503561413948/sagemaker/movielens/train3/train.protobuf\n",
      "s3://sagemaker-us-west-2-503561413948/sagemaker/movielens/test3/test.protobuf\n",
      "Output: s3://sagemaker-us-west-2-503561413948/sagemaker/movielens/output\n"
     ]
    }
   ],
   "source": [
    "def writeDatasetToProtobuf(X, Y, bucket, prefix, key):\n",
    "    buf = io.BytesIO()\n",
    "    smac.write_spmatrix_to_sparse_tensor(buf, X, Y)\n",
    "    buf.seek(0)\n",
    "    obj = '{}/{}'.format(prefix, key)\n",
    "    boto3.resource('s3',region_name='us-west-2').Bucket(bucket).Object(obj).upload_fileobj(buf)\n",
    "    return 's3://{}/{}'.format(bucket,obj)\n",
    "    \n",
    "train_data = writeDatasetToProtobuf(X_train, Y_train, bucket, train_prefix, train_key)    \n",
    "test_data  = writeDatasetToProtobuf(X_test, Y_test, bucket, test_prefix, test_key)    \n",
    "  \n",
    "print(train_data)\n",
    "print(test_data)\n",
    "print('Output: {}'.format(output_prefix))"
   ]
  },
  {
   "cell_type": "markdown",
   "metadata": {},
   "source": [
    "# 4. Start Training"
   ]
  },
  {
   "cell_type": "code",
   "execution_count": 43,
   "metadata": {},
   "outputs": [
    {
     "name": "stderr",
     "output_type": "stream",
     "text": [
      "Defaulting to the only supported framework/algorithm version: 1. Ignoring framework/algorithm version: latest.\n"
     ]
    },
    {
     "name": "stdout",
     "output_type": "stream",
     "text": [
      "174872318107.dkr.ecr.us-west-2.amazonaws.com/factorization-machines:1\n"
     ]
    }
   ],
   "source": [
    "# Specify Docker Contatiner\n",
    "import sagemaker\n",
    "from sagemaker import image_uris\n",
    "\n",
    "# Specify region and algorithm\n",
    "region = 'us-west-2'\n",
    "algorithm = 'factorization-machines'\n",
    "version = 'latest'\n",
    "\n",
    "# Get the container image URI\n",
    "container = image_uris.retrieve(\n",
    "    framework=algorithm,\n",
    "    region=region,\n",
    "    version=version\n",
    ")\n",
    "\n",
    "print(container)\n"
   ]
  },
  {
   "cell_type": "code",
   "execution_count": 51,
   "metadata": {},
   "outputs": [
    {
     "name": "stderr",
     "output_type": "stream",
     "text": [
      "INFO:sagemaker:Creating training-job with name: factorization-machines-2024-12-02-17-57-11-704\n"
     ]
    },
    {
     "name": "stdout",
     "output_type": "stream",
     "text": [
      "2024-12-02 17:57:14 Starting - Starting the training job...\n",
      "2024-12-02 17:57:29 Starting - Preparing the instances for training...\n",
      "2024-12-02 17:58:20 Downloading - Downloading the training image...........Docker entrypoint called with argument(s): train\n",
      "Running default environment configuration script\n",
      "/opt/amazon/lib/python3.8/site-packages/mxnet/model.py:97: SyntaxWarning: \"is\" with a literal. Did you mean \"==\"?\n",
      "  if num_device is 1 and 'dist' not in kvstore:\n",
      "[12/02/2024 18:00:30 INFO 139763737245504] Reading default configuration from /opt/amazon/lib/python3.8/site-packages/algorithm/resources/default-conf.json: {'epochs': 1, 'mini_batch_size': '1000', 'use_bias': 'true', 'use_linear': 'true', 'bias_lr': '0.1', 'linear_lr': '0.001', 'factors_lr': '0.0001', 'bias_wd': '0.01', 'linear_wd': '0.001', 'factors_wd': '0.00001', 'bias_init_method': 'normal', 'bias_init_sigma': '0.01', 'linear_init_method': 'normal', 'linear_init_sigma': '0.01', 'factors_init_method': 'normal', 'factors_init_sigma': '0.001', 'batch_metrics_publish_interval': '500', '_data_format': 'record', '_kvstore': 'auto', '_learning_rate': '1.0', '_log_level': 'info', '_num_gpus': 'auto', '_num_kv_servers': 'auto', '_optimizer': 'adam', '_tuning_objective_metric': '', '_use_full_symbolic': 'true', '_wd': '1.0'}\n",
      "[12/02/2024 18:00:30 INFO 139763737245504] Merging with provided configuration from /opt/ml/input/config/hyperparameters.json: {'epochs': '10', 'feature_dim': '2625', 'num_factors': '64', 'predictor_type': 'binary_classifier'}\n",
      "[12/02/2024 18:00:30 INFO 139763737245504] Final configuration: {'epochs': '10', 'mini_batch_size': '1000', 'use_bias': 'true', 'use_linear': 'true', 'bias_lr': '0.1', 'linear_lr': '0.001', 'factors_lr': '0.0001', 'bias_wd': '0.01', 'linear_wd': '0.001', 'factors_wd': '0.00001', 'bias_init_method': 'normal', 'bias_init_sigma': '0.01', 'linear_init_method': 'normal', 'linear_init_sigma': '0.01', 'factors_init_method': 'normal', 'factors_init_sigma': '0.001', 'batch_metrics_publish_interval': '500', '_data_format': 'record', '_kvstore': 'auto', '_learning_rate': '1.0', '_log_level': 'info', '_num_gpus': 'auto', '_num_kv_servers': 'auto', '_optimizer': 'adam', '_tuning_objective_metric': '', '_use_full_symbolic': 'true', '_wd': '1.0', 'feature_dim': '2625', 'num_factors': '64', 'predictor_type': 'binary_classifier'}\n",
      "[12/02/2024 18:00:30 WARNING 139763737245504] Loggers have already been setup.\n",
      "Process 7 is a worker.\n",
      "[12/02/2024 18:00:30 INFO 139763737245504] Using default worker.\n",
      "[12/02/2024 18:00:30 INFO 139763737245504] Checkpoint loading and saving are disabled.\n",
      "[2024-12-02 18:00:30.789] [tensorio] [warning] TensorIO is already initialized; ignoring the initialization routine.\n",
      "[2024-12-02 18:00:30.793] [tensorio] [info] epoch_stats={\"data_pipeline\": \"/opt/ml/input/data/train\", \"epoch\": 0, \"duration\": 7, \"num_examples\": 1, \"num_bytes\": 64000}\n",
      "/opt/amazon/python3.8/lib/python3.8/subprocess.py:848: RuntimeWarning: line buffering (buffering=1) isn't supported in binary mode, the default buffer size will be used\n",
      "  self.stdout = io.open(c2pread, 'rb', bufsize)\n",
      "[12/02/2024 18:00:30 INFO 139763737245504] nvidia-smi: took 0.035 seconds to run.\n",
      "[12/02/2024 18:00:30 INFO 139763737245504] nvidia-smi identified 0 GPUs.\n",
      "[12/02/2024 18:00:30 INFO 139763737245504] Number of GPUs being used: 0\n",
      "[12/02/2024 18:00:30 INFO 139763737245504] [Sparse network] Building a sparse network.\n",
      "[12/02/2024 18:00:30 INFO 139763737245504] Create Store: local\n",
      "#metrics {\"StartTime\": 1733162430.7861686, \"EndTime\": 1733162430.8312397, \"Dimensions\": {\"Algorithm\": \"factorization-machines\", \"Host\": \"algo-1\", \"Operation\": \"training\"}, \"Metrics\": {\"initialize.time\": {\"sum\": 39.81637954711914, \"count\": 1, \"min\": 39.81637954711914, \"max\": 39.81637954711914}}}\n",
      "#metrics {\"StartTime\": 1733162430.831331, \"EndTime\": 1733162430.8313546, \"Dimensions\": {\"Algorithm\": \"factorization-machines\", \"Host\": \"algo-1\", \"Operation\": \"training\", \"Meta\": \"init_train_data_iter\"}, \"Metrics\": {\"Total Records Seen\": {\"sum\": 1000.0, \"count\": 1, \"min\": 1000, \"max\": 1000}, \"Total Batches Seen\": {\"sum\": 1.0, \"count\": 1, \"min\": 1, \"max\": 1}, \"Max Records Seen Between Resets\": {\"sum\": 1000.0, \"count\": 1, \"min\": 1000, \"max\": 1000}, \"Max Batches Seen Between Resets\": {\"sum\": 1.0, \"count\": 1, \"min\": 1, \"max\": 1}, \"Reset Count\": {\"sum\": 1.0, \"count\": 1, \"min\": 1, \"max\": 1}, \"Number of Records Since Last Reset\": {\"sum\": 0.0, \"count\": 1, \"min\": 0, \"max\": 0}, \"Number of Batches Since Last Reset\": {\"sum\": 0.0, \"count\": 1, \"min\": 0, \"max\": 0}}}\n",
      "[18:00:30] /opt/brazil-pkg-cache/packages/AIAlgorithmsMXNet/AIAlgorithmsMXNet-1.3.x_Cuda_11.1.x.406.0/AL2_x86_64/generic-flavor/src/src/kvstore/./kvstore_local.h:306: Warning: non-default weights detected during kvstore pull. This call has been ignored. Please make sure to use kv.row_sparse_pull() or module.prepare() with row_ids.\n",
      "[18:00:30] /opt/brazil-pkg-cache/packages/AIAlgorithmsMXNet/AIAlgorithmsMXNet-1.3.x_Cuda_11.1.x.406.0/AL2_x86_64/generic-flavor/src/src/kvstore/./kvstore_local.h:306: Warning: non-default weights detected during kvstore pull. This call has been ignored. Please make sure to use kv.row_sparse_pull() or module.prepare() with row_ids.\n",
      "[18:00:30] /opt/brazil-pkg-cache/packages/AIAlgorithmsMXNet/AIAlgorithmsMXNet-1.3.x_Cuda_11.1.x.406.0/AL2_x86_64/generic-flavor/src/src/operator/././../common/utils.h:450: Optimizer with lazy_update = True detected. Be aware that lazy update with row_sparse gradient is different from standard update, and may lead to different empirical results. See https://mxnet.incubator.apache.org/api/python/optimization/optimization.html for more details.\n",
      "[12/02/2024 18:00:30 INFO 139763737245504] #quality_metric: host=algo-1, epoch=0, batch=0 train binary_classification_accuracy <score>=0.558\n",
      "[12/02/2024 18:00:30 INFO 139763737245504] #quality_metric: host=algo-1, epoch=0, batch=0 train binary_classification_cross_entropy <loss>=0.6920031127929688\n",
      "[12/02/2024 18:00:30 INFO 139763737245504] #quality_metric: host=algo-1, epoch=0, batch=0 train binary_f_1.000 <score>=0.6769005847953217\n",
      "[2024-12-02 18:00:31.225] [tensorio] [info] epoch_stats={\"data_pipeline\": \"/opt/ml/input/data/train\", \"epoch\": 2, \"duration\": 376, \"num_examples\": 91, \"num_bytes\": 5796480}\n",
      "[12/02/2024 18:00:31 INFO 139763737245504] #quality_metric: host=algo-1, epoch=0, train binary_classification_accuracy <score>=0.5575054945054945\n",
      "[12/02/2024 18:00:31 INFO 139763737245504] #quality_metric: host=algo-1, epoch=0, train binary_classification_cross_entropy <loss>=0.6897803136804601\n",
      "[12/02/2024 18:00:31 INFO 139763737245504] #quality_metric: host=algo-1, epoch=0, train binary_f_1.000 <score>=0.6986657087907565\n",
      "#metrics {\"StartTime\": 1733162430.8312986, \"EndTime\": 1733162431.225596, \"Dimensions\": {\"Algorithm\": \"factorization-machines\", \"Host\": \"algo-1\", \"Operation\": \"training\"}, \"Metrics\": {\"epochs\": {\"sum\": 10.0, \"count\": 1, \"min\": 10, \"max\": 10}, \"update.time\": {\"sum\": 394.03605461120605, \"count\": 1, \"min\": 394.03605461120605, \"max\": 394.03605461120605}}}\n",
      "[12/02/2024 18:00:31 INFO 139763737245504] #progress_metric: host=algo-1, completed 10.0 % of epochs\n",
      "#metrics {\"StartTime\": 1733162430.8315322, \"EndTime\": 1733162431.2258284, \"Dimensions\": {\"Algorithm\": \"factorization-machines\", \"Host\": \"algo-1\", \"Operation\": \"training\", \"epoch\": 0, \"Meta\": \"training_data_iter\"}, \"Metrics\": {\"Total Records Seen\": {\"sum\": 91570.0, \"count\": 1, \"min\": 91570, \"max\": 91570}, \"Total Batches Seen\": {\"sum\": 92.0, \"count\": 1, \"min\": 92, \"max\": 92}, \"Max Records Seen Between Resets\": {\"sum\": 90570.0, \"count\": 1, \"min\": 90570, \"max\": 90570}, \"Max Batches Seen Between Resets\": {\"sum\": 91.0, \"count\": 1, \"min\": 91, \"max\": 91}, \"Reset Count\": {\"sum\": 2.0, \"count\": 1, \"min\": 2, \"max\": 2}, \"Number of Records Since Last Reset\": {\"sum\": 90570.0, \"count\": 1, \"min\": 90570, \"max\": 90570}, \"Number of Batches Since Last Reset\": {\"sum\": 91.0, \"count\": 1, \"min\": 91, \"max\": 91}}}\n",
      "[12/02/2024 18:00:31 INFO 139763737245504] #throughput_metric: host=algo-1, train throughput=229642.66611212335 records/second\n",
      "[12/02/2024 18:00:31 INFO 139763737245504] #quality_metric: host=algo-1, epoch=1, batch=0 train binary_classification_accuracy <score>=0.587\n",
      "[12/02/2024 18:00:31 INFO 139763737245504] #quality_metric: host=algo-1, epoch=1, batch=0 train binary_classification_cross_entropy <loss>=0.6713773193359375\n",
      "[12/02/2024 18:00:31 INFO 139763737245504] #quality_metric: host=algo-1, epoch=1, batch=0 train binary_f_1.000 <score>=0.739760554505356\n",
      "[2024-12-02 18:00:31.576] [tensorio] [info] epoch_stats={\"data_pipeline\": \"/opt/ml/input/data/train\", \"epoch\": 4, \"duration\": 347, \"num_examples\": 91, \"num_bytes\": 5796480}\n",
      "[12/02/2024 18:00:31 INFO 139763737245504] #quality_metric: host=algo-1, epoch=1, train binary_classification_accuracy <score>=0.5637912087912088\n",
      "[12/02/2024 18:00:31 INFO 139763737245504] #quality_metric: host=algo-1, epoch=1, train binary_classification_cross_entropy <loss>=0.6830939056061126\n",
      "[12/02/2024 18:00:31 INFO 139763737245504] #quality_metric: host=algo-1, epoch=1, train binary_f_1.000 <score>=0.7029728900561953\n",
      "#metrics {\"StartTime\": 1733162431.2256641, \"EndTime\": 1733162431.5768228, \"Dimensions\": {\"Algorithm\": \"factorization-machines\", \"Host\": \"algo-1\", \"Operation\": \"training\"}, \"Metrics\": {\"update.time\": {\"sum\": 350.33106803894043, \"count\": 1, \"min\": 350.33106803894043, \"max\": 350.33106803894043}}}\n",
      "[12/02/2024 18:00:31 INFO 139763737245504] #progress_metric: host=algo-1, completed 20.0 % of epochs\n",
      "#metrics {\"StartTime\": 1733162431.2264674, \"EndTime\": 1733162431.5769618, \"Dimensions\": {\"Algorithm\": \"factorization-machines\", \"Host\": \"algo-1\", \"Operation\": \"training\", \"epoch\": 1, \"Meta\": \"training_data_iter\"}, \"Metrics\": {\"Total Records Seen\": {\"sum\": 182140.0, \"count\": 1, \"min\": 182140, \"max\": 182140}, \"Total Batches Seen\": {\"sum\": 183.0, \"count\": 1, \"min\": 183, \"max\": 183}, \"Max Records Seen Between Resets\": {\"sum\": 90570.0, \"count\": 1, \"min\": 90570, \"max\": 90570}, \"Max Batches Seen Between Resets\": {\"sum\": 91.0, \"count\": 1, \"min\": 91, \"max\": 91}, \"Reset Count\": {\"sum\": 3.0, \"count\": 1, \"min\": 3, \"max\": 3}, \"Number of Records Since Last Reset\": {\"sum\": 90570.0, \"count\": 1, \"min\": 90570, \"max\": 90570}, \"Number of Batches Since Last Reset\": {\"sum\": 91.0, \"count\": 1, \"min\": 91, \"max\": 91}}}\n",
      "[12/02/2024 18:00:31 INFO 139763737245504] #throughput_metric: host=algo-1, train throughput=258341.7524999184 records/second\n",
      "[12/02/2024 18:00:31 INFO 139763737245504] #quality_metric: host=algo-1, epoch=2, batch=0 train binary_classification_accuracy <score>=0.587\n",
      "[12/02/2024 18:00:31 INFO 139763737245504] #quality_metric: host=algo-1, epoch=2, batch=0 train binary_classification_cross_entropy <loss>=0.6648751220703125\n",
      "[12/02/2024 18:00:31 INFO 139763737245504] #quality_metric: host=algo-1, epoch=2, batch=0 train binary_f_1.000 <score>=0.739760554505356\n",
      "[2024-12-02 18:00:32.002] [tensorio] [info] epoch_stats={\"data_pipeline\": \"/opt/ml/input/data/train\", \"epoch\": 6, \"duration\": 423, \"num_examples\": 91, \"num_bytes\": 5796480}\n",
      "[12/02/2024 18:00:32 INFO 139763737245504] #quality_metric: host=algo-1, epoch=2, train binary_classification_accuracy <score>=0.5742967032967033\n",
      "[12/02/2024 18:00:32 INFO 139763737245504] #quality_metric: host=algo-1, epoch=2, train binary_classification_cross_entropy <loss>=0.6779770058432778\n",
      "[12/02/2024 18:00:32 INFO 139763737245504] #quality_metric: host=algo-1, epoch=2, train binary_f_1.000 <score>=0.7068403169293871\n",
      "#metrics {\"StartTime\": 1733162431.5768738, \"EndTime\": 1733162432.003087, \"Dimensions\": {\"Algorithm\": \"factorization-machines\", \"Host\": \"algo-1\", \"Operation\": \"training\"}, \"Metrics\": {\"update.time\": {\"sum\": 425.66442489624023, \"count\": 1, \"min\": 425.66442489624023, \"max\": 425.66442489624023}}}\n",
      "[12/02/2024 18:00:32 INFO 139763737245504] #progress_metric: host=algo-1, completed 30.0 % of epochs\n",
      "#metrics {\"StartTime\": 1733162431.577394, \"EndTime\": 1733162432.0034814, \"Dimensions\": {\"Algorithm\": \"factorization-machines\", \"Host\": \"algo-1\", \"Operation\": \"training\", \"epoch\": 2, \"Meta\": \"training_data_iter\"}, \"Metrics\": {\"Total Records Seen\": {\"sum\": 272710.0, \"count\": 1, \"min\": 272710, \"max\": 272710}, \"Total Batches Seen\": {\"sum\": 274.0, \"count\": 1, \"min\": 274, \"max\": 274}, \"Max Records Seen Between Resets\": {\"sum\": 90570.0, \"count\": 1, \"min\": 90570, \"max\": 90570}, \"Max Batches Seen Between Resets\": {\"sum\": 91.0, \"count\": 1, \"min\": 91, \"max\": 91}, \"Reset Count\": {\"sum\": 4.0, \"count\": 1, \"min\": 4, \"max\": 4}, \"Number of Records Since Last Reset\": {\"sum\": 90570.0, \"count\": 1, \"min\": 90570, \"max\": 90570}, \"Number of Batches Since Last Reset\": {\"sum\": 91.0, \"count\": 1, \"min\": 91, \"max\": 91}}}\n",
      "[12/02/2024 18:00:32 INFO 139763737245504] #throughput_metric: host=algo-1, train throughput=212486.0585564547 records/second\n",
      "[12/02/2024 18:00:32 INFO 139763737245504] #quality_metric: host=algo-1, epoch=3, batch=0 train binary_classification_accuracy <score>=0.587\n",
      "[12/02/2024 18:00:32 INFO 139763737245504] #quality_metric: host=algo-1, epoch=3, batch=0 train binary_classification_cross_entropy <loss>=0.659190673828125\n",
      "[12/02/2024 18:00:32 INFO 139763737245504] #quality_metric: host=algo-1, epoch=3, batch=0 train binary_f_1.000 <score>=0.739760554505356\n",
      "[2024-12-02 18:00:32.412] [tensorio] [info] epoch_stats={\"data_pipeline\": \"/opt/ml/input/data/train\", \"epoch\": 8, \"duration\": 406, \"num_examples\": 91, \"num_bytes\": 5796480}\n",
      "[12/02/2024 18:00:32 INFO 139763737245504] #quality_metric: host=algo-1, epoch=3, train binary_classification_accuracy <score>=0.5849340659340659\n",
      "[12/02/2024 18:00:32 INFO 139763737245504] #quality_metric: host=algo-1, epoch=3, train binary_classification_cross_entropy <loss>=0.6734385335733603\n",
      "[12/02/2024 18:00:32 INFO 139763737245504] #quality_metric: host=algo-1, epoch=3, train binary_f_1.000 <score>=0.709808772347667\n",
      "#metrics {\"StartTime\": 1733162432.003184, \"EndTime\": 1733162432.413958, \"Dimensions\": {\"Algorithm\": \"factorization-machines\", \"Host\": \"algo-1\", \"Operation\": \"training\"}, \"Metrics\": {\"update.time\": {\"sum\": 409.6806049346924, \"count\": 1, \"min\": 409.6806049346924, \"max\": 409.6806049346924}}}\n",
      "[12/02/2024 18:00:32 INFO 139763737245504] #progress_metric: host=algo-1, completed 40.0 % of epochs\n",
      "#metrics {\"StartTime\": 1733162432.0042522, \"EndTime\": 1733162432.4144564, \"Dimensions\": {\"Algorithm\": \"factorization-machines\", \"Host\": \"algo-1\", \"Operation\": \"training\", \"epoch\": 3, \"Meta\": \"training_data_iter\"}, \"Metrics\": {\"Total Records Seen\": {\"sum\": 363280.0, \"count\": 1, \"min\": 363280, \"max\": 363280}, \"Total Batches Seen\": {\"sum\": 365.0, \"count\": 1, \"min\": 365, \"max\": 365}, \"Max Records Seen Between Resets\": {\"sum\": 90570.0, \"count\": 1, \"min\": 90570, \"max\": 90570}, \"Max Batches Seen Between Resets\": {\"sum\": 91.0, \"count\": 1, \"min\": 91, \"max\": 91}, \"Reset Count\": {\"sum\": 5.0, \"count\": 1, \"min\": 5, \"max\": 5}, \"Number of Records Since Last Reset\": {\"sum\": 90570.0, \"count\": 1, \"min\": 90570, \"max\": 90570}, \"Number of Batches Since Last Reset\": {\"sum\": 91.0, \"count\": 1, \"min\": 91, \"max\": 91}}}\n",
      "[12/02/2024 18:00:32 INFO 139763737245504] #throughput_metric: host=algo-1, train throughput=220735.52528959044 records/second\n",
      "[12/02/2024 18:00:32 INFO 139763737245504] #quality_metric: host=algo-1, epoch=4, batch=0 train binary_classification_accuracy <score>=0.587\n",
      "[12/02/2024 18:00:32 INFO 139763737245504] #quality_metric: host=algo-1, epoch=4, batch=0 train binary_classification_cross_entropy <loss>=0.6542156982421875\n",
      "[12/02/2024 18:00:32 INFO 139763737245504] #quality_metric: host=algo-1, epoch=4, batch=0 train binary_f_1.000 <score>=0.739760554505356\n",
      "[2024-12-02 18:00:32.805] [tensorio] [info] epoch_stats={\"data_pipeline\": \"/opt/ml/input/data/train\", \"epoch\": 10, \"duration\": 388, \"num_examples\": 91, \"num_bytes\": 5796480}\n",
      "[12/02/2024 18:00:32 INFO 139763737245504] #quality_metric: host=algo-1, epoch=4, train binary_classification_accuracy <score>=0.5937362637362638\n",
      "[12/02/2024 18:00:32 INFO 139763737245504] #quality_metric: host=algo-1, epoch=4, train binary_classification_cross_entropy <loss>=0.6694205201536745\n",
      "[12/02/2024 18:00:32 INFO 139763737245504] #quality_metric: host=algo-1, epoch=4, train binary_f_1.000 <score>=0.7119370422315724\n",
      "#metrics {\"StartTime\": 1733162432.414099, \"EndTime\": 1733162432.805657, \"Dimensions\": {\"Algorithm\": \"factorization-machines\", \"Host\": \"algo-1\", \"Operation\": \"training\"}, \"Metrics\": {\"update.time\": {\"sum\": 390.44833183288574, \"count\": 1, \"min\": 390.44833183288574, \"max\": 390.44833183288574}}}\n",
      "[12/02/2024 18:00:32 INFO 139763737245504] #progress_metric: host=algo-1, completed 50.0 % of epochs\n",
      "#metrics {\"StartTime\": 1733162432.4151804, \"EndTime\": 1733162432.805856, \"Dimensions\": {\"Algorithm\": \"factorization-machines\", \"Host\": \"algo-1\", \"Operation\": \"training\", \"epoch\": 4, \"Meta\": \"training_data_iter\"}, \"Metrics\": {\"Total Records Seen\": {\"sum\": 453850.0, \"count\": 1, \"min\": 453850, \"max\": 453850}, \"Total Batches Seen\": {\"sum\": 456.0, \"count\": 1, \"min\": 456, \"max\": 456}, \"Max Records Seen Between Resets\": {\"sum\": 90570.0, \"count\": 1, \"min\": 90570, \"max\": 90570}, \"Max Batches Seen Between Resets\": {\"sum\": 91.0, \"count\": 1, \"min\": 91, \"max\": 91}, \"Reset Count\": {\"sum\": 6.0, \"count\": 1, \"min\": 6, \"max\": 6}, \"Number of Records Since Last Reset\": {\"sum\": 90570.0, \"count\": 1, \"min\": 90570, \"max\": 90570}, \"Number of Batches Since Last Reset\": {\"sum\": 91.0, \"count\": 1, \"min\": 91, \"max\": 91}}}\n",
      "[12/02/2024 18:00:32 INFO 139763737245504] #throughput_metric: host=algo-1, train throughput=231767.10991909343 records/second\n",
      "[12/02/2024 18:00:32 INFO 139763737245504] #quality_metric: host=algo-1, epoch=5, batch=0 train binary_classification_accuracy <score>=0.588\n",
      "[12/02/2024 18:00:32 INFO 139763737245504] #quality_metric: host=algo-1, epoch=5, batch=0 train binary_classification_cross_entropy <loss>=0.6498548583984375\n",
      "[12/02/2024 18:00:32 INFO 139763737245504] #quality_metric: host=algo-1, epoch=5, batch=0 train binary_f_1.000 <score>=0.73989898989899\n",
      "[2024-12-02 18:00:33.234] [tensorio] [info] epoch_stats={\"data_pipeline\": \"/opt/ml/input/data/train\", \"epoch\": 12, \"duration\": 425, \"num_examples\": 91, \"num_bytes\": 5796480}\n",
      "[12/02/2024 18:00:33 INFO 139763737245504] #quality_metric: host=algo-1, epoch=5, train binary_classification_accuracy <score>=0.6005934065934065\n",
      "[12/02/2024 18:00:33 INFO 139763737245504] #quality_metric: host=algo-1, epoch=5, train binary_classification_cross_entropy <loss>=0.6658505363045158\n",
      "[12/02/2024 18:00:33 INFO 139763737245504] #quality_metric: host=algo-1, epoch=5, train binary_f_1.000 <score>=0.7134726054394954\n",
      "#metrics {\"StartTime\": 1733162432.8057194, \"EndTime\": 1733162433.234685, \"Dimensions\": {\"Algorithm\": \"factorization-machines\", \"Host\": \"algo-1\", \"Operation\": \"training\"}, \"Metrics\": {\"update.time\": {\"sum\": 428.21764945983887, \"count\": 1, \"min\": 428.21764945983887, \"max\": 428.21764945983887}}}\n",
      "[12/02/2024 18:00:33 INFO 139763737245504] #progress_metric: host=algo-1, completed 60.0 % of epochs\n",
      "#metrics {\"StartTime\": 1733162432.8064377, \"EndTime\": 1733162433.2348926, \"Dimensions\": {\"Algorithm\": \"factorization-machines\", \"Host\": \"algo-1\", \"Operation\": \"training\", \"epoch\": 5, \"Meta\": \"training_data_iter\"}, \"Metrics\": {\"Total Records Seen\": {\"sum\": 544420.0, \"count\": 1, \"min\": 544420, \"max\": 544420}, \"Total Batches Seen\": {\"sum\": 547.0, \"count\": 1, \"min\": 547, \"max\": 547}, \"Max Records Seen Between Resets\": {\"sum\": 90570.0, \"count\": 1, \"min\": 90570, \"max\": 90570}, \"Max Batches Seen Between Resets\": {\"sum\": 91.0, \"count\": 1, \"min\": 91, \"max\": 91}, \"Reset Count\": {\"sum\": 7.0, \"count\": 1, \"min\": 7, \"max\": 7}, \"Number of Records Since Last Reset\": {\"sum\": 90570.0, \"count\": 1, \"min\": 90570, \"max\": 90570}, \"Number of Batches Since Last Reset\": {\"sum\": 91.0, \"count\": 1, \"min\": 91, \"max\": 91}}}\n",
      "[12/02/2024 18:00:33 INFO 139763737245504] #throughput_metric: host=algo-1, train throughput=211330.45346595792 records/second\n",
      "[12/02/2024 18:00:33 INFO 139763737245504] #quality_metric: host=algo-1, epoch=6, batch=0 train binary_classification_accuracy <score>=0.594\n",
      "[12/02/2024 18:00:33 INFO 139763737245504] #quality_metric: host=algo-1, epoch=6, batch=0 train binary_classification_cross_entropy <loss>=0.646020751953125\n",
      "[12/02/2024 18:00:33 INFO 139763737245504] #quality_metric: host=algo-1, epoch=6, batch=0 train binary_f_1.000 <score>=0.7420584498094028\n",
      "[2024-12-02 18:00:33.602] [tensorio] [info] epoch_stats={\"data_pipeline\": \"/opt/ml/input/data/train\", \"epoch\": 14, \"duration\": 365, \"num_examples\": 91, \"num_bytes\": 5796480}\n",
      "[12/02/2024 18:00:33 INFO 139763737245504] #quality_metric: host=algo-1, epoch=6, train binary_classification_accuracy <score>=0.607956043956044\n",
      "[12/02/2024 18:00:33 INFO 139763737245504] #quality_metric: host=algo-1, epoch=6, train binary_classification_cross_entropy <loss>=0.6626614212203812\n",
      "[12/02/2024 18:00:33 INFO 139763737245504] #quality_metric: host=algo-1, epoch=6, train binary_f_1.000 <score>=0.7159056522639315\n",
      "#metrics {\"StartTime\": 1733162433.23475, \"EndTime\": 1733162433.6032977, \"Dimensions\": {\"Algorithm\": \"factorization-machines\", \"Host\": \"algo-1\", \"Operation\": \"training\"}, \"Metrics\": {\"update.time\": {\"sum\": 367.8393363952637, \"count\": 1, \"min\": 367.8393363952637, \"max\": 367.8393363952637}}}\n",
      "[12/02/2024 18:00:33 INFO 139763737245504] #progress_metric: host=algo-1, completed 70.0 % of epochs\n",
      "#metrics {\"StartTime\": 1733162433.2354336, \"EndTime\": 1733162433.6034877, \"Dimensions\": {\"Algorithm\": \"factorization-machines\", \"Host\": \"algo-1\", \"Operation\": \"training\", \"epoch\": 6, \"Meta\": \"training_data_iter\"}, \"Metrics\": {\"Total Records Seen\": {\"sum\": 634990.0, \"count\": 1, \"min\": 634990, \"max\": 634990}, \"Total Batches Seen\": {\"sum\": 638.0, \"count\": 1, \"min\": 638, \"max\": 638}, \"Max Records Seen Between Resets\": {\"sum\": 90570.0, \"count\": 1, \"min\": 90570, \"max\": 90570}, \"Max Batches Seen Between Resets\": {\"sum\": 91.0, \"count\": 1, \"min\": 91, \"max\": 91}, \"Reset Count\": {\"sum\": 8.0, \"count\": 1, \"min\": 8, \"max\": 8}, \"Number of Records Since Last Reset\": {\"sum\": 90570.0, \"count\": 1, \"min\": 90570, \"max\": 90570}, \"Number of Batches Since Last Reset\": {\"sum\": 91.0, \"count\": 1, \"min\": 91, \"max\": 91}}}\n",
      "[12/02/2024 18:00:33 INFO 139763737245504] #throughput_metric: host=algo-1, train throughput=246003.0224562735 records/second\n",
      "[12/02/2024 18:00:33 INFO 139763737245504] #quality_metric: host=algo-1, epoch=7, batch=0 train binary_classification_accuracy <score>=0.612\n",
      "[12/02/2024 18:00:33 INFO 139763737245504] #quality_metric: host=algo-1, epoch=7, batch=0 train binary_classification_cross_entropy <loss>=0.6426356201171874\n",
      "[12/02/2024 18:00:33 INFO 139763737245504] #quality_metric: host=algo-1, epoch=7, batch=0 train binary_f_1.000 <score>=0.7503217503217503\n",
      "[2024-12-02 18:00:33.952] [tensorio] [info] epoch_stats={\"data_pipeline\": \"/opt/ml/input/data/train\", \"epoch\": 16, \"duration\": 346, \"num_examples\": 91, \"num_bytes\": 5796480}\n",
      "[12/02/2024 18:00:33 INFO 139763737245504] #quality_metric: host=algo-1, epoch=7, train binary_classification_accuracy <score>=0.6152637362637363\n",
      "[12/02/2024 18:00:33 INFO 139763737245504] #quality_metric: host=algo-1, epoch=7, train binary_classification_cross_entropy <loss>=0.6597937990964114\n",
      "[12/02/2024 18:00:33 INFO 139763737245504] #quality_metric: host=algo-1, epoch=7, train binary_f_1.000 <score>=0.71838678281573\n",
      "#metrics {\"StartTime\": 1733162433.603356, \"EndTime\": 1733162433.9526527, \"Dimensions\": {\"Algorithm\": \"factorization-machines\", \"Host\": \"algo-1\", \"Operation\": \"training\"}, \"Metrics\": {\"update.time\": {\"sum\": 348.61207008361816, \"count\": 1, \"min\": 348.61207008361816, \"max\": 348.61207008361816}}}\n",
      "[12/02/2024 18:00:33 INFO 139763737245504] #progress_metric: host=algo-1, completed 80.0 % of epochs\n",
      "#metrics {\"StartTime\": 1733162433.604018, \"EndTime\": 1733162433.9527984, \"Dimensions\": {\"Algorithm\": \"factorization-machines\", \"Host\": \"algo-1\", \"Operation\": \"training\", \"epoch\": 7, \"Meta\": \"training_data_iter\"}, \"Metrics\": {\"Total Records Seen\": {\"sum\": 725560.0, \"count\": 1, \"min\": 725560, \"max\": 725560}, \"Total Batches Seen\": {\"sum\": 729.0, \"count\": 1, \"min\": 729, \"max\": 729}, \"Max Records Seen Between Resets\": {\"sum\": 90570.0, \"count\": 1, \"min\": 90570, \"max\": 90570}, \"Max Batches Seen Between Resets\": {\"sum\": 91.0, \"count\": 1, \"min\": 91, \"max\": 91}, \"Reset Count\": {\"sum\": 9.0, \"count\": 1, \"min\": 9, \"max\": 9}, \"Number of Records Since Last Reset\": {\"sum\": 90570.0, \"count\": 1, \"min\": 90570, \"max\": 90570}, \"Number of Batches Since Last Reset\": {\"sum\": 91.0, \"count\": 1, \"min\": 91, \"max\": 91}}}\n",
      "[12/02/2024 18:00:33 INFO 139763737245504] #throughput_metric: host=algo-1, train throughput=259606.90644728768 records/second\n",
      "[12/02/2024 18:00:33 INFO 139763737245504] #quality_metric: host=algo-1, epoch=8, batch=0 train binary_classification_accuracy <score>=0.623\n",
      "[12/02/2024 18:00:33 INFO 139763737245504] #quality_metric: host=algo-1, epoch=8, batch=0 train binary_classification_cross_entropy <loss>=0.639631103515625\n",
      "[12/02/2024 18:00:33 INFO 139763737245504] #quality_metric: host=algo-1, epoch=8, batch=0 train binary_f_1.000 <score>=0.7547169811320755\n",
      "[2024-12-02 18:00:34.296] [tensorio] [info] epoch_stats={\"data_pipeline\": \"/opt/ml/input/data/train\", \"epoch\": 18, \"duration\": 341, \"num_examples\": 91, \"num_bytes\": 5796480}\n",
      "[12/02/2024 18:00:34 INFO 139763737245504] #quality_metric: host=algo-1, epoch=8, train binary_classification_accuracy <score>=0.622956043956044\n",
      "[12/02/2024 18:00:34 INFO 139763737245504] #quality_metric: host=algo-1, epoch=8, train binary_classification_cross_entropy <loss>=0.6571962018694196\n",
      "[12/02/2024 18:00:34 INFO 139763737245504] #quality_metric: host=algo-1, epoch=8, train binary_f_1.000 <score>=0.7211100002438489\n",
      "#metrics {\"StartTime\": 1733162433.9527028, \"EndTime\": 1733162434.29662, \"Dimensions\": {\"Algorithm\": \"factorization-machines\", \"Host\": \"algo-1\", \"Operation\": \"training\"}, \"Metrics\": {\"update.time\": {\"sum\": 343.31679344177246, \"count\": 1, \"min\": 343.31679344177246, \"max\": 343.31679344177246}}}\n",
      "[12/02/2024 18:00:34 INFO 139763737245504] #progress_metric: host=algo-1, completed 90.0 % of epochs\n",
      "#metrics {\"StartTime\": 1733162433.9532795, \"EndTime\": 1733162434.2967594, \"Dimensions\": {\"Algorithm\": \"factorization-machines\", \"Host\": \"algo-1\", \"Operation\": \"training\", \"epoch\": 8, \"Meta\": \"training_data_iter\"}, \"Metrics\": {\"Total Records Seen\": {\"sum\": 816130.0, \"count\": 1, \"min\": 816130, \"max\": 816130}, \"Total Batches Seen\": {\"sum\": 820.0, \"count\": 1, \"min\": 820, \"max\": 820}, \"Max Records Seen Between Resets\": {\"sum\": 90570.0, \"count\": 1, \"min\": 90570, \"max\": 90570}, \"Max Batches Seen Between Resets\": {\"sum\": 91.0, \"count\": 1, \"min\": 91, \"max\": 91}, \"Reset Count\": {\"sum\": 10.0, \"count\": 1, \"min\": 10, \"max\": 10}, \"Number of Records Since Last Reset\": {\"sum\": 90570.0, \"count\": 1, \"min\": 90570, \"max\": 90570}, \"Number of Batches Since Last Reset\": {\"sum\": 91.0, \"count\": 1, \"min\": 91, \"max\": 91}}}\n",
      "[12/02/2024 18:00:34 INFO 139763737245504] #throughput_metric: host=algo-1, train throughput=263606.5404280123 records/second\n",
      "[12/02/2024 18:00:34 INFO 139763737245504] #quality_metric: host=algo-1, epoch=9, batch=0 train binary_classification_accuracy <score>=0.636\n",
      "[12/02/2024 18:00:34 INFO 139763737245504] #quality_metric: host=algo-1, epoch=9, batch=0 train binary_classification_cross_entropy <loss>=0.6369479370117187\n",
      "[12/02/2024 18:00:34 INFO 139763737245504] #quality_metric: host=algo-1, epoch=9, batch=0 train binary_f_1.000 <score>=0.7608409986859396\n",
      "[2024-12-02 18:00:34.635] [tensorio] [info] epoch_stats={\"data_pipeline\": \"/opt/ml/input/data/train\", \"epoch\": 20, \"duration\": 336, \"num_examples\": 91, \"num_bytes\": 5796480}\n",
      "[12/02/2024 18:00:34 INFO 139763737245504] #quality_metric: host=algo-1, epoch=9, train binary_classification_accuracy <score>=0.6306373626373626\n",
      "[12/02/2024 18:00:34 INFO 139763737245504] #quality_metric: host=algo-1, epoch=9, train binary_classification_cross_entropy <loss>=0.6548245393522493\n",
      "[12/02/2024 18:00:34 INFO 139763737245504] #quality_metric: host=algo-1, epoch=9, train binary_f_1.000 <score>=0.7243336340523251\n",
      "[12/02/2024 18:00:34 INFO 139763737245504] #quality_metric: host=algo-1, train binary_classification_accuracy <score>=0.6306373626373626\n",
      "[12/02/2024 18:00:34 INFO 139763737245504] #quality_metric: host=algo-1, train binary_classification_cross_entropy <loss>=0.6548245393522493\n",
      "[12/02/2024 18:00:34 INFO 139763737245504] #quality_metric: host=algo-1, train binary_f_1.000 <score>=0.7243336340523251\n",
      "#metrics {\"StartTime\": 1733162434.2966738, \"EndTime\": 1733162434.6358936, \"Dimensions\": {\"Algorithm\": \"factorization-machines\", \"Host\": \"algo-1\", \"Operation\": \"training\"}, \"Metrics\": {\"update.time\": {\"sum\": 338.6251926422119, \"count\": 1, \"min\": 338.6251926422119, \"max\": 338.6251926422119}}}\n",
      "[12/02/2024 18:00:34 INFO 139763737245504] #progress_metric: host=algo-1, completed 100.0 % of epochs\n",
      "#metrics {\"StartTime\": 1733162434.2972438, \"EndTime\": 1733162434.6360548, \"Dimensions\": {\"Algorithm\": \"factorization-machines\", \"Host\": \"algo-1\", \"Operation\": \"training\", \"epoch\": 9, \"Meta\": \"training_data_iter\"}, \"Metrics\": {\"Total Records Seen\": {\"sum\": 906700.0, \"count\": 1, \"min\": 906700, \"max\": 906700}, \"Total Batches Seen\": {\"sum\": 911.0, \"count\": 1, \"min\": 911, \"max\": 911}, \"Max Records Seen Between Resets\": {\"sum\": 90570.0, \"count\": 1, \"min\": 90570, \"max\": 90570}, \"Max Batches Seen Between Resets\": {\"sum\": 91.0, \"count\": 1, \"min\": 91, \"max\": 91}, \"Reset Count\": {\"sum\": 11.0, \"count\": 1, \"min\": 11, \"max\": 11}, \"Number of Records Since Last Reset\": {\"sum\": 90570.0, \"count\": 1, \"min\": 90570, \"max\": 90570}, \"Number of Batches Since Last Reset\": {\"sum\": 91.0, \"count\": 1, \"min\": 91, \"max\": 91}}}\n",
      "[12/02/2024 18:00:34 INFO 139763737245504] #throughput_metric: host=algo-1, train throughput=267239.5729266987 records/second\n",
      "[12/02/2024 18:00:34 WARNING 139763737245504] wait_for_all_workers will not sync workers since the kv store is not running distributed\n",
      "[12/02/2024 18:00:34 INFO 139763737245504] Pulling entire model from kvstore to finalize\n",
      "#metrics {\"StartTime\": 1733162434.635948, \"EndTime\": 1733162434.6383939, \"Dimensions\": {\"Algorithm\": \"factorization-machines\", \"Host\": \"algo-1\", \"Operation\": \"training\"}, \"Metrics\": {\"finalize.time\": {\"sum\": 2.1038055419921875, \"count\": 1, \"min\": 2.1038055419921875, \"max\": 2.1038055419921875}}}\n",
      "[12/02/2024 18:00:34 INFO 139763737245504] Saved checkpoint to \"/tmp/tmpyaf2t_vu/state-0001.params\"\n",
      "[2024-12-02 18:00:34.643] [tensorio] [info] epoch_stats={\"data_pipeline\": \"/opt/ml/input/data/test\", \"epoch\": 0, \"duration\": 3854, \"num_examples\": 1, \"num_bytes\": 64000}\n",
      "[2024-12-02 18:00:34.668] [tensorio] [info] epoch_stats={\"data_pipeline\": \"/opt/ml/input/data/test\", \"epoch\": 1, \"duration\": 25, \"num_examples\": 10, \"num_bytes\": 603520}\n",
      "#metrics {\"StartTime\": 1733162434.643286, \"EndTime\": 1733162434.6689901, \"Dimensions\": {\"Algorithm\": \"factorization-machines\", \"Host\": \"algo-1\", \"Operation\": \"training\", \"Meta\": \"test_data_iter\"}, \"Metrics\": {\"Total Records Seen\": {\"sum\": 9430.0, \"count\": 1, \"min\": 9430, \"max\": 9430}, \"Total Batches Seen\": {\"sum\": 10.0, \"count\": 1, \"min\": 10, \"max\": 10}, \"Max Records Seen Between Resets\": {\"sum\": 9430.0, \"count\": 1, \"min\": 9430, \"max\": 9430}, \"Max Batches Seen Between Resets\": {\"sum\": 10.0, \"count\": 1, \"min\": 10, \"max\": 10}, \"Reset Count\": {\"sum\": 1.0, \"count\": 1, \"min\": 1, \"max\": 1}, \"Number of Records Since Last Reset\": {\"sum\": 9430.0, \"count\": 1, \"min\": 9430, \"max\": 9430}, \"Number of Batches Since Last Reset\": {\"sum\": 10.0, \"count\": 1, \"min\": 10, \"max\": 10}}}\n",
      "[12/02/2024 18:00:34 INFO 139763737245504] #test_score (algo-1) : ('binary_classification_accuracy', 0.6327677624602333)\n",
      "[12/02/2024 18:00:34 INFO 139763737245504] #test_score (algo-1) : ('binary_classification_cross_entropy', 0.6501862251872349)\n",
      "[12/02/2024 18:00:34 INFO 139763737245504] #test_score (algo-1) : ('binary_f_1.000', 0.7511676367033125)\n",
      "[12/02/2024 18:00:34 INFO 139763737245504] #quality_metric: host=algo-1, test binary_classification_accuracy <score>=0.6327677624602333\n",
      "[12/02/2024 18:00:34 INFO 139763737245504] #quality_metric: host=algo-1, test binary_classification_cross_entropy <loss>=0.6501862251872349\n",
      "[12/02/2024 18:00:34 INFO 139763737245504] #quality_metric: host=algo-1, test binary_f_1.000 <score>=0.7511676367033125\n",
      "#metrics {\"StartTime\": 1733162434.6384552, \"EndTime\": 1733162434.6696315, \"Dimensions\": {\"Algorithm\": \"factorization-machines\", \"Host\": \"algo-1\", \"Operation\": \"training\"}, \"Metrics\": {\"setuptime\": {\"sum\": 14.045000076293945, \"count\": 1, \"min\": 14.045000076293945, \"max\": 14.045000076293945}, \"totaltime\": {\"sum\": 3899.7576236724854, \"count\": 1, \"min\": 3899.7576236724854, \"max\": 3899.7576236724854}}}\n",
      "\n",
      "2024-12-02 18:00:42 Training - Training image download completed. Training in progress.\n",
      "2024-12-02 18:00:42 Uploading - Uploading generated training model\n",
      "2024-12-02 18:00:55 Completed - Training job completed\n",
      "Training seconds: 176\n",
      "Billable seconds: 176\n"
     ]
    }
   ],
   "source": [
    "from sagemaker.estimator import Estimator \n",
    "\n",
    "fm = Estimator(container,                             # The container that contains the algorithm\n",
    "               role = 'arn:aws:iam::503561413948:role/blasagerole',  # Your IAM role\n",
    "               instance_count=1,                       # Updated parameter name\n",
    "               instance_type='ml.c4.xlarge',           # Updated parameter name\n",
    "               output_path=output_prefix,\n",
    "               sagemaker_session=sess)\n",
    "\n",
    "fm.set_hyperparameters(feature_dim=nbFeatures,\n",
    "                      predictor_type='binary_classifier',\n",
    "                      num_factors=64,\n",
    "                      epochs=10)\n",
    "\n",
    "fm.fit({'train': train_data, 'test': test_data})\n"
   ]
  },
  {
   "cell_type": "markdown",
   "metadata": {},
   "source": [
    "### We should be able to check the logs of how Sagemaker takes cares of training like above"
   ]
  },
  {
   "cell_type": "markdown",
   "metadata": {},
   "source": [
    "# 5. Model Deploy "
   ]
  },
  {
   "cell_type": "markdown",
   "metadata": {},
   "source": [
    "You can easily deploy the model with **.deploy** method. This creates a RESTful HTTP endpoint that can be intergrated to any of the applications that we are trying to use. You can also check whether the model is created in your Sagemaker console."
   ]
  },
  {
   "cell_type": "code",
   "execution_count": 53,
   "metadata": {},
   "outputs": [
    {
     "name": "stderr",
     "output_type": "stream",
     "text": [
      "INFO:sagemaker:Creating model with name: factorization-machines-2024-12-02-18-14-33-419\n",
      "INFO:sagemaker:Creating endpoint-config with name movielens-02-18-14-33\n",
      "INFO:sagemaker:Creating endpoint with name movielens-02-18-14-33\n"
     ]
    },
    {
     "name": "stdout",
     "output_type": "stream",
     "text": [
      "-------!"
     ]
    }
   ],
   "source": [
    "from time import strftime, gmtime\n",
    "timestamp = strftime('%d-%H-%M-%S', gmtime())\n",
    "\n",
    "fm_predictor = fm.deploy(\n",
    "    endpoint_name = 'movielens-{}'.format(timestamp),\n",
    "    initial_instance_count=1,\n",
    "    instance_type='ml.m5.large')"
   ]
  },
  {
   "cell_type": "markdown",
   "metadata": {},
   "source": [
    "# 6. Predicting with the test set"
   ]
  },
  {
   "cell_type": "code",
   "execution_count": 55,
   "metadata": {},
   "outputs": [
    {
     "ename": "ParamValidationError",
     "evalue": "Parameter validation failed:\nInvalid type for parameter Body, value: [[0. 0. 0. ... 0. 0. 0.]], type: <class 'numpy.ndarray'>, valid types: <class 'bytes'>, <class 'bytearray'>, file-like object",
     "output_type": "error",
     "traceback": [
      "\u001b[1;31m---------------------------------------------------------------------------\u001b[0m",
      "\u001b[1;31mParamValidationError\u001b[0m                      Traceback (most recent call last)",
      "Cell \u001b[1;32mIn[55], line 1\u001b[0m\n\u001b[1;32m----> 1\u001b[0m result \u001b[38;5;241m=\u001b[39m fm_predictor\u001b[38;5;241m.\u001b[39mpredict(X_test[\u001b[38;5;241m1000\u001b[39m]\u001b[38;5;241m.\u001b[39mtoarray())\n\u001b[0;32m      2\u001b[0m \u001b[38;5;28mprint\u001b[39m(result)\n",
      "File \u001b[1;32mc:\\Users\\Nisarga\\anaconda3\\Lib\\site-packages\\sagemaker\\base_predictor.py:212\u001b[0m, in \u001b[0;36mPredictor.predict\u001b[1;34m(self, data, initial_args, target_model, target_variant, inference_id, custom_attributes, component_name)\u001b[0m\n\u001b[0;32m    209\u001b[0m \u001b[38;5;28;01mif\u001b[39;00m inference_component_name:\n\u001b[0;32m    210\u001b[0m     request_args[\u001b[38;5;124m\"\u001b[39m\u001b[38;5;124mInferenceComponentName\u001b[39m\u001b[38;5;124m\"\u001b[39m] \u001b[38;5;241m=\u001b[39m inference_component_name\n\u001b[1;32m--> 212\u001b[0m response \u001b[38;5;241m=\u001b[39m \u001b[38;5;28mself\u001b[39m\u001b[38;5;241m.\u001b[39msagemaker_session\u001b[38;5;241m.\u001b[39msagemaker_runtime_client\u001b[38;5;241m.\u001b[39minvoke_endpoint(\u001b[38;5;241m*\u001b[39m\u001b[38;5;241m*\u001b[39mrequest_args)\n\u001b[0;32m    213\u001b[0m \u001b[38;5;28;01mreturn\u001b[39;00m \u001b[38;5;28mself\u001b[39m\u001b[38;5;241m.\u001b[39m_handle_response(response)\n",
      "File \u001b[1;32mc:\\Users\\Nisarga\\anaconda3\\Lib\\site-packages\\botocore\\client.py:569\u001b[0m, in \u001b[0;36mClientCreator._create_api_method.<locals>._api_call\u001b[1;34m(self, *args, **kwargs)\u001b[0m\n\u001b[0;32m    565\u001b[0m     \u001b[38;5;28;01mraise\u001b[39;00m \u001b[38;5;167;01mTypeError\u001b[39;00m(\n\u001b[0;32m    566\u001b[0m         \u001b[38;5;124mf\u001b[39m\u001b[38;5;124m\"\u001b[39m\u001b[38;5;132;01m{\u001b[39;00mpy_operation_name\u001b[38;5;132;01m}\u001b[39;00m\u001b[38;5;124m() only accepts keyword arguments.\u001b[39m\u001b[38;5;124m\"\u001b[39m\n\u001b[0;32m    567\u001b[0m     )\n\u001b[0;32m    568\u001b[0m \u001b[38;5;66;03m# The \"self\" in this scope is referring to the BaseClient.\u001b[39;00m\n\u001b[1;32m--> 569\u001b[0m \u001b[38;5;28;01mreturn\u001b[39;00m \u001b[38;5;28mself\u001b[39m\u001b[38;5;241m.\u001b[39m_make_api_call(operation_name, kwargs)\n",
      "File \u001b[1;32mc:\\Users\\Nisarga\\anaconda3\\Lib\\site-packages\\botocore\\client.py:980\u001b[0m, in \u001b[0;36mBaseClient._make_api_call\u001b[1;34m(self, operation_name, api_params)\u001b[0m\n\u001b[0;32m    976\u001b[0m \u001b[38;5;28;01mif\u001b[39;00m properties:\n\u001b[0;32m    977\u001b[0m     \u001b[38;5;66;03m# Pass arbitrary endpoint info with the Request\u001b[39;00m\n\u001b[0;32m    978\u001b[0m     \u001b[38;5;66;03m# for use during construction.\u001b[39;00m\n\u001b[0;32m    979\u001b[0m     request_context[\u001b[38;5;124m'\u001b[39m\u001b[38;5;124mendpoint_properties\u001b[39m\u001b[38;5;124m'\u001b[39m] \u001b[38;5;241m=\u001b[39m properties\n\u001b[1;32m--> 980\u001b[0m request_dict \u001b[38;5;241m=\u001b[39m \u001b[38;5;28mself\u001b[39m\u001b[38;5;241m.\u001b[39m_convert_to_request_dict(\n\u001b[0;32m    981\u001b[0m     api_params\u001b[38;5;241m=\u001b[39mapi_params,\n\u001b[0;32m    982\u001b[0m     operation_model\u001b[38;5;241m=\u001b[39moperation_model,\n\u001b[0;32m    983\u001b[0m     endpoint_url\u001b[38;5;241m=\u001b[39mendpoint_url,\n\u001b[0;32m    984\u001b[0m     context\u001b[38;5;241m=\u001b[39mrequest_context,\n\u001b[0;32m    985\u001b[0m     headers\u001b[38;5;241m=\u001b[39madditional_headers,\n\u001b[0;32m    986\u001b[0m )\n\u001b[0;32m    987\u001b[0m resolve_checksum_context(request_dict, operation_model, api_params)\n\u001b[0;32m    989\u001b[0m service_id \u001b[38;5;241m=\u001b[39m \u001b[38;5;28mself\u001b[39m\u001b[38;5;241m.\u001b[39m_service_model\u001b[38;5;241m.\u001b[39mservice_id\u001b[38;5;241m.\u001b[39mhyphenize()\n",
      "File \u001b[1;32mc:\\Users\\Nisarga\\anaconda3\\Lib\\site-packages\\botocore\\client.py:1047\u001b[0m, in \u001b[0;36mBaseClient._convert_to_request_dict\u001b[1;34m(self, api_params, operation_model, endpoint_url, context, headers, set_user_agent_header)\u001b[0m\n\u001b[0;32m   1038\u001b[0m \u001b[38;5;28;01mdef\u001b[39;00m \u001b[38;5;21m_convert_to_request_dict\u001b[39m(\n\u001b[0;32m   1039\u001b[0m     \u001b[38;5;28mself\u001b[39m,\n\u001b[0;32m   1040\u001b[0m     api_params,\n\u001b[1;32m   (...)\u001b[0m\n\u001b[0;32m   1045\u001b[0m     set_user_agent_header\u001b[38;5;241m=\u001b[39m\u001b[38;5;28;01mTrue\u001b[39;00m,\n\u001b[0;32m   1046\u001b[0m ):\n\u001b[1;32m-> 1047\u001b[0m     request_dict \u001b[38;5;241m=\u001b[39m \u001b[38;5;28mself\u001b[39m\u001b[38;5;241m.\u001b[39m_serializer\u001b[38;5;241m.\u001b[39mserialize_to_request(\n\u001b[0;32m   1048\u001b[0m         api_params, operation_model\n\u001b[0;32m   1049\u001b[0m     )\n\u001b[0;32m   1050\u001b[0m     \u001b[38;5;28;01mif\u001b[39;00m \u001b[38;5;129;01mnot\u001b[39;00m \u001b[38;5;28mself\u001b[39m\u001b[38;5;241m.\u001b[39m_client_config\u001b[38;5;241m.\u001b[39minject_host_prefix:\n\u001b[0;32m   1051\u001b[0m         request_dict\u001b[38;5;241m.\u001b[39mpop(\u001b[38;5;124m'\u001b[39m\u001b[38;5;124mhost_prefix\u001b[39m\u001b[38;5;124m'\u001b[39m, \u001b[38;5;28;01mNone\u001b[39;00m)\n",
      "File \u001b[1;32mc:\\Users\\Nisarga\\anaconda3\\Lib\\site-packages\\botocore\\validate.py:381\u001b[0m, in \u001b[0;36mParamValidationDecorator.serialize_to_request\u001b[1;34m(self, parameters, operation_model)\u001b[0m\n\u001b[0;32m    377\u001b[0m     report \u001b[38;5;241m=\u001b[39m \u001b[38;5;28mself\u001b[39m\u001b[38;5;241m.\u001b[39m_param_validator\u001b[38;5;241m.\u001b[39mvalidate(\n\u001b[0;32m    378\u001b[0m         parameters, operation_model\u001b[38;5;241m.\u001b[39minput_shape\n\u001b[0;32m    379\u001b[0m     )\n\u001b[0;32m    380\u001b[0m     \u001b[38;5;28;01mif\u001b[39;00m report\u001b[38;5;241m.\u001b[39mhas_errors():\n\u001b[1;32m--> 381\u001b[0m         \u001b[38;5;28;01mraise\u001b[39;00m ParamValidationError(report\u001b[38;5;241m=\u001b[39mreport\u001b[38;5;241m.\u001b[39mgenerate_report())\n\u001b[0;32m    382\u001b[0m \u001b[38;5;28;01mreturn\u001b[39;00m \u001b[38;5;28mself\u001b[39m\u001b[38;5;241m.\u001b[39m_serializer\u001b[38;5;241m.\u001b[39mserialize_to_request(\n\u001b[0;32m    383\u001b[0m     parameters, operation_model\n\u001b[0;32m    384\u001b[0m )\n",
      "\u001b[1;31mParamValidationError\u001b[0m: Parameter validation failed:\nInvalid type for parameter Body, value: [[0. 0. 0. ... 0. 0. 0.]], type: <class 'numpy.ndarray'>, valid types: <class 'bytes'>, <class 'bytearray'>, file-like object"
     ]
    }
   ],
   "source": [
    "result = fm_predictor.predict(X_test[1000].toarray())\n",
    "print(result)"
   ]
  }
 ],
 "metadata": {
  "kernelspec": {
   "display_name": "base",
   "language": "python",
   "name": "python3"
  },
  "language_info": {
   "codemirror_mode": {
    "name": "ipython",
    "version": 3
   },
   "file_extension": ".py",
   "mimetype": "text/x-python",
   "name": "python",
   "nbconvert_exporter": "python",
   "pygments_lexer": "ipython3",
   "version": "3.11.7"
  }
 },
 "nbformat": 4,
 "nbformat_minor": 4
}
